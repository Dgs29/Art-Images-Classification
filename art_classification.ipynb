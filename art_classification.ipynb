{
 "cells": [
  {
   "cell_type": "code",
   "execution_count": 1,
   "metadata": {},
   "outputs": [],
   "source": [
    "#Importing libraries\n",
    "import numpy as np\n",
    "import pandas as pd\n",
    "import matplotlib.pyplot as plt\n",
    "import os\n",
    "import cv2\n",
    "from tqdm import tqdm\n",
    "import random"
   ]
  },
  {
   "cell_type": "code",
   "execution_count": 2,
   "metadata": {},
   "outputs": [],
   "source": [
    "#Loading directories\n",
    "training_dir = r'dataset_updated/training_set'\n",
    "test_dir = r'dataset_updated/validation_set'"
   ]
  },
  {
   "cell_type": "code",
   "execution_count": 3,
   "metadata": {},
   "outputs": [],
   "source": [
    "#Loading sub-directories\n",
    "train_categories = [i for i in os.listdir(training_dir)]\n",
    "test_categories = [j for j in os.listdir(test_dir)]\n"
   ]
  },
  {
   "cell_type": "code",
   "execution_count": 4,
   "metadata": {},
   "outputs": [
    {
     "data": {
      "text/plain": [
       "['drawings', 'engraving', 'iconography', 'painting', 'sculpture']"
      ]
     },
     "execution_count": 4,
     "metadata": {},
     "output_type": "execute_result"
    }
   ],
   "source": [
    "train_categories"
   ]
  },
  {
   "cell_type": "code",
   "execution_count": 5,
   "metadata": {},
   "outputs": [
    {
     "data": {
      "image/png": "[encoded data removed]",
      "text/plain": [
       "<Figure size 432x288 with 1 Axes>"
      ]
     },
     "metadata": {},
     "output_type": "display_data"
    }
   ],
   "source": [
    "n_imgs = []\n",
    "for cat in train_categories:\n",
    "    files = os.listdir(os.path.join(training_dir, cat))\n",
    "    n_imgs += [len(files)]\n",
    "    \n",
    "plt.bar([_ for _ in range(len(train_categories))], n_imgs, tick_label=train_categories)\n",
    "plt.show()"
   ]
  },
  {
   "cell_type": "code",
   "execution_count": 6,
   "metadata": {},
   "outputs": [],
   "source": [
    "im_size = 80\n",
    "training_list = []\n",
    "test_list = []"
   ]
  },
  {
   "cell_type": "code",
   "execution_count": 7,
   "metadata": {},
   "outputs": [],
   "source": [
    "#Creating a function to generate training data and test data\n",
    "def create_data(categories, directory, list_data):\n",
    "    for category in tqdm(categories):\n",
    "        path = os.path.join(directory, category)\n",
    "        class_num = train_categories.index(category)\n",
    "        for img in os.listdir(path):\n",
    "            try:\n",
    "                image_array = cv2.imread(os.path.join(path, img))\n",
    "                new_array = cv2.resize(image_array, (im_size, im_size))\n",
    "                list_data.append([new_array, class_num])\n",
    "            except Exception as e:\n",
    "                pass\n",
    "    return list_data"
   ]
  },
  {
   "cell_type": "code",
   "execution_count": 8,
   "metadata": {},
   "outputs": [
    {
     "name": "stderr",
     "output_type": "stream",
     "text": [
      "100%|████████████████████████████████████████████| 5/5 [01:38<00:00, 18.46s/it]\n"
     ]
    }
   ],
   "source": [
    "training_data = create_data(train_categories, training_dir, training_list)"
   ]
  },
  {
   "cell_type": "code",
   "execution_count": 9,
   "metadata": {},
   "outputs": [
    {
     "name": "stderr",
     "output_type": "stream",
     "text": [
      "100%|████████████████████████████████████████████| 5/5 [00:08<00:00,  1.84s/it]\n"
     ]
    }
   ],
   "source": [
    "test_data = create_data(test_categories, test_dir, test_list)"
   ]
  },
  {
   "cell_type": "code",
   "execution_count": 10,
   "metadata": {},
   "outputs": [],
   "source": [
    "random.shuffle(training_data)\n",
    "random.shuffle(test_data)"
   ]
  },
  {
   "cell_type": "code",
   "execution_count": 11,
   "metadata": {},
   "outputs": [],
   "source": [
    "X_train_raw = []\n",
    "X_test_raw = []\n",
    "y_train_raw = []\n",
    "y_test_raw = []"
   ]
  },
  {
   "cell_type": "code",
   "execution_count": 12,
   "metadata": {},
   "outputs": [],
   "source": [
    "#Splitting features and labels for training set\n",
    "for feature, label in training_data:\n",
    "    X_train_raw.append(feature)\n",
    "    y_train_raw.append(label)"
   ]
  },
  {
   "cell_type": "code",
   "execution_count": 13,
   "metadata": {},
   "outputs": [],
   "source": [
    "#Splitting features and labels for training set\n",
    "for feature, label in test_data:\n",
    "    X_test_raw.append(feature)\n",
    "    y_test_raw.append(label)"
   ]
  },
  {
   "cell_type": "code",
   "execution_count": 14,
   "metadata": {},
   "outputs": [],
   "source": [
    "#One hot encoding the target variables\n",
    "y_train = pd.get_dummies(y_train_raw)\n",
    "y_test = pd.get_dummies(y_test_raw)"
   ]
  },
  {
   "cell_type": "code",
   "execution_count": 15,
   "metadata": {},
   "outputs": [],
   "source": [
    "#Normalising the variables\n",
    "X_train = np.array(X_train_raw, np.float32)/255.0\n",
    "X_test = np.array(X_test_raw, np.float32)/255.0\n",
    "\n",
    "y_train = np.asarray(y_train, np.int16)\n",
    "y_test = np.asarray(y_test, np.int16)"
   ]
  },
  {
   "cell_type": "code",
   "execution_count": 16,
   "metadata": {},
   "outputs": [
    {
     "name": "stdout",
     "output_type": "stream",
     "text": [
      "(7721, 80, 80, 3)\n",
      "(856, 80, 80, 3)\n",
      "(7721, 5)\n",
      "(856, 5)\n"
     ]
    }
   ],
   "source": [
    "print(X_train.shape)\n",
    "print(X_test.shape)\n",
    "print(y_train.shape)\n",
    "print(y_test.shape)"
   ]
  },
  {
   "cell_type": "code",
   "execution_count": 17,
   "metadata": {},
   "outputs": [],
   "source": [
    "num_class = y_train.shape[1]"
   ]
  },
  {
   "cell_type": "markdown",
   "metadata": {},
   "source": [
    "Applying Transfer Learning. Using VGG19 model"
   ]
  },
  {
   "cell_type": "code",
   "execution_count": 18,
   "metadata": {},
   "outputs": [
    {
     "name": "stderr",
     "output_type": "stream",
     "text": [
      "Using TensorFlow backend.\n"
     ]
    }
   ],
   "source": [
    "import keras\n",
    "from keras.applications.vgg19 import VGG19\n",
    "from keras.models import Model\n",
    "from keras.layers import Dense, Dropout, Flatten"
   ]
  },
  {
   "cell_type": "code",
   "execution_count": 19,
   "metadata": {},
   "outputs": [
    {
     "name": "stdout",
     "output_type": "stream",
     "text": [
      "_________________________________________________________________\n",
      "Layer (type)                 Output Shape              Param #   \n",
      "=================================================================\n",
      "input_1 (InputLayer)         (None, 80, 80, 3)         0         \n",
      "_________________________________________________________________\n",
      "block1_conv1 (Conv2D)        (None, 80, 80, 64)        1792      \n",
      "_________________________________________________________________\n",
      "block1_conv2 (Conv2D)        (None, 80, 80, 64)        36928     \n",
      "_________________________________________________________________\n",
      "block1_pool (MaxPooling2D)   (None, 40, 40, 64)        0         \n",
      "_________________________________________________________________\n",
      "block2_conv1 (Conv2D)        (None, 40, 40, 128)       73856     \n",
      "_________________________________________________________________\n",
      "block2_conv2 (Conv2D)        (None, 40, 40, 128)       147584    \n",
      "_________________________________________________________________\n",
      "block2_pool (MaxPooling2D)   (None, 20, 20, 128)       0         \n",
      "_________________________________________________________________\n",
      "block3_conv1 (Conv2D)        (None, 20, 20, 256)       295168    \n",
      "_________________________________________________________________\n",
      "block3_conv2 (Conv2D)        (None, 20, 20, 256)       590080    \n",
      "_________________________________________________________________\n",
      "block3_conv3 (Conv2D)        (None, 20, 20, 256)       590080    \n",
      "_________________________________________________________________\n",
      "block3_conv4 (Conv2D)        (None, 20, 20, 256)       590080    \n",
      "_________________________________________________________________\n",
      "block3_pool (MaxPooling2D)   (None, 10, 10, 256)       0         \n",
      "_________________________________________________________________\n",
      "block4_conv1 (Conv2D)        (None, 10, 10, 512)       1180160   \n",
      "_________________________________________________________________\n",
      "block4_conv2 (Conv2D)        (None, 10, 10, 512)       2359808   \n",
      "_________________________________________________________________\n",
      "block4_conv3 (Conv2D)        (None, 10, 10, 512)       2359808   \n",
      "_________________________________________________________________\n",
      "block4_conv4 (Conv2D)        (None, 10, 10, 512)       2359808   \n",
      "_________________________________________________________________\n",
      "block4_pool (MaxPooling2D)   (None, 5, 5, 512)         0         \n",
      "_________________________________________________________________\n",
      "block5_conv1 (Conv2D)        (None, 5, 5, 512)         2359808   \n",
      "_________________________________________________________________\n",
      "block5_conv2 (Conv2D)        (None, 5, 5, 512)         2359808   \n",
      "_________________________________________________________________\n",
      "block5_conv3 (Conv2D)        (None, 5, 5, 512)         2359808   \n",
      "_________________________________________________________________\n",
      "block5_conv4 (Conv2D)        (None, 5, 5, 512)         2359808   \n",
      "_________________________________________________________________\n",
      "block5_pool (MaxPooling2D)   (None, 2, 2, 512)         0         \n",
      "_________________________________________________________________\n",
      "flatten_1 (Flatten)          (None, 2048)              0         \n",
      "_________________________________________________________________\n",
      "dense_1 (Dense)              (None, 128)               262272    \n",
      "_________________________________________________________________\n",
      "dense_2 (Dense)              (None, 5)                 645       \n",
      "=================================================================\n",
      "Total params: 20,287,301\n",
      "Trainable params: 262,917\n",
      "Non-trainable params: 20,024,384\n",
      "_________________________________________________________________\n"
     ]
    }
   ],
   "source": [
    "base_model = VGG19(include_top = False, weights = 'imagenet', #using default imagenet weights\n",
    "              input_shape = (im_size, im_size, 3))\n",
    "\n",
    "#Add a new top layer\n",
    "x = base_model.output\n",
    "x = Flatten()(x)\n",
    "\n",
    "x = Dense(128, activation = 'relu')(x)\n",
    "\n",
    "predictions = Dense(num_class, activation = 'softmax')(x)\n",
    "\n",
    "\n",
    "model = Model(inputs = base_model.input, outputs = predictions)\n",
    "\n",
    "#Freezing the trainable layers\n",
    "for layer in base_model.layers:\n",
    "    layer.trainable = False\n",
    "    \n",
    "#Compiling the model\n",
    "model.compile(optimizer = 'adam', loss = 'categorical_crossentropy', metrics = ['accuracy'])\n",
    "\n",
    "callbacks_list = [keras.callbacks.EarlyStopping(monitor='val_acc', patience = 3, verbose = 1)]\n",
    "model.summary()\n",
    "    "
   ]
  },
  {
   "cell_type": "markdown",
   "metadata": {},
   "source": [
    "Due to low computation, I'm running only 3 epochs."
   ]
  },
  {
   "cell_type": "code",
   "execution_count": 20,
   "metadata": {},
   "outputs": [
    {
     "name": "stdout",
     "output_type": "stream",
     "text": [
      "Train on 7721 samples, validate on 856 samples\n",
      "Epoch 1/3\n"
     ]
    },
    {
     "name": "stdout",
     "output_type": "stream",
     "text": [
      "6496/7721 [========================>.....] - ETA: 39:51 - loss: 2.2640 - acc: 0.06 - ETA: 31:43 - loss: 1.9245 - acc: 0.18 - ETA: 27:06 - loss: 1.8405 - acc: 0.29 - ETA: 24:53 - loss: 1.7609 - acc: 0.34 - ETA: 23:34 - loss: 1.6720 - acc: 0.38 - ETA: 22:44 - loss: 1.6216 - acc: 0.39 - ETA: 22:10 - loss: 1.5656 - acc: 0.43 - ETA: 21:44 - loss: 1.4536 - acc: 0.48 - ETA: 21:25 - loss: 1.4303 - acc: 0.48 - ETA: 21:10 - loss: 1.3897 - acc: 0.49 - ETA: 20:57 - loss: 1.3585 - acc: 0.50 - ETA: 20:46 - loss: 1.3163 - acc: 0.52 - ETA: 20:37 - loss: 1.2666 - acc: 0.55 - ETA: 20:30 - loss: 1.2276 - acc: 0.56 - ETA: 20:22 - loss: 1.2299 - acc: 0.56 - ETA: 20:15 - loss: 1.1988 - acc: 0.57 - ETA: 20:09 - loss: 1.1869 - acc: 0.57 - ETA: 20:02 - loss: 1.1691 - acc: 0.58 - ETA: 19:56 - loss: 1.1542 - acc: 0.58 - ETA: 19:50 - loss: 1.1309 - acc: 0.59 - ETA: 19:45 - loss: 1.1122 - acc: 0.60 - ETA: 19:39 - loss: 1.0880 - acc: 0.60 - ETA: 19:33 - loss: 1.0673 - acc: 0.61 - ETA: 19:28 - loss: 1.0602 - acc: 0.61 - ETA: 19:22 - loss: 1.0393 - acc: 0.62 - ETA: 19:18 - loss: 1.0328 - acc: 0.63 - ETA: 19:14 - loss: 1.0292 - acc: 0.62 - ETA: 19:08 - loss: 1.0140 - acc: 0.63 - ETA: 19:04 - loss: 1.0069 - acc: 0.63 - ETA: 18:59 - loss: 0.9995 - acc: 0.63 - ETA: 18:54 - loss: 0.9874 - acc: 0.64 - ETA: 18:50 - loss: 0.9796 - acc: 0.64 - ETA: 18:45 - loss: 0.9715 - acc: 0.64 - ETA: 18:40 - loss: 0.9624 - acc: 0.64 - ETA: 18:35 - loss: 0.9567 - acc: 0.65 - ETA: 18:30 - loss: 0.9447 - acc: 0.65 - ETA: 18:26 - loss: 0.9374 - acc: 0.65 - ETA: 18:22 - loss: 0.9382 - acc: 0.65 - ETA: 18:18 - loss: 0.9364 - acc: 0.65 - ETA: 18:12 - loss: 0.9324 - acc: 0.66 - ETA: 18:07 - loss: 0.9296 - acc: 0.66 - ETA: 18:02 - loss: 0.9183 - acc: 0.66 - ETA: 17:56 - loss: 0.9120 - acc: 0.67 - ETA: 17:51 - loss: 0.9062 - acc: 0.67 - ETA: 17:46 - loss: 0.9048 - acc: 0.67 - ETA: 17:41 - loss: 0.8968 - acc: 0.67 - ETA: 17:36 - loss: 0.8872 - acc: 0.68 - ETA: 17:31 - loss: 0.8770 - acc: 0.68 - ETA: 17:26 - loss: 0.8789 - acc: 0.68 - ETA: 17:21 - loss: 0.8743 - acc: 0.68 - ETA: 17:16 - loss: 0.8637 - acc: 0.69 - ETA: 17:11 - loss: 0.8617 - acc: 0.69 - ETA: 17:06 - loss: 0.8565 - acc: 0.69 - ETA: 17:01 - loss: 0.8465 - acc: 0.69 - ETA: 16:56 - loss: 0.8450 - acc: 0.69 - ETA: 16:51 - loss: 0.8352 - acc: 0.70 - ETA: 16:46 - loss: 0.8277 - acc: 0.70 - ETA: 16:40 - loss: 0.8248 - acc: 0.70 - ETA: 16:36 - loss: 0.8219 - acc: 0.70 - ETA: 16:30 - loss: 0.8156 - acc: 0.70 - ETA: 16:25 - loss: 0.8085 - acc: 0.71 - ETA: 16:20 - loss: 0.8055 - acc: 0.71 - ETA: 16:15 - loss: 0.8017 - acc: 0.71 - ETA: 16:09 - loss: 0.7951 - acc: 0.71 - ETA: 16:04 - loss: 0.7922 - acc: 0.71 - ETA: 15:59 - loss: 0.7867 - acc: 0.72 - ETA: 15:53 - loss: 0.7798 - acc: 0.72 - ETA: 15:48 - loss: 0.7790 - acc: 0.72 - ETA: 15:44 - loss: 0.7757 - acc: 0.72 - ETA: 15:38 - loss: 0.7731 - acc: 0.72 - ETA: 15:33 - loss: 0.7684 - acc: 0.72 - ETA: 15:28 - loss: 0.7673 - acc: 0.73 - ETA: 15:24 - loss: 0.7644 - acc: 0.73 - ETA: 15:20 - loss: 0.7620 - acc: 0.73 - ETA: 15:16 - loss: 0.7608 - acc: 0.73 - ETA: 15:10 - loss: 0.7579 - acc: 0.73 - ETA: 15:05 - loss: 0.7567 - acc: 0.73 - ETA: 14:59 - loss: 0.7600 - acc: 0.73 - ETA: 14:54 - loss: 0.7580 - acc: 0.73 - ETA: 14:49 - loss: 0.7584 - acc: 0.73 - ETA: 14:43 - loss: 0.7551 - acc: 0.73 - ETA: 14:39 - loss: 0.7526 - acc: 0.73 - ETA: 14:34 - loss: 0.7525 - acc: 0.73 - ETA: 14:29 - loss: 0.7510 - acc: 0.73 - ETA: 14:23 - loss: 0.7477 - acc: 0.73 - ETA: 14:18 - loss: 0.7448 - acc: 0.73 - ETA: 14:13 - loss: 0.7441 - acc: 0.73 - ETA: 14:08 - loss: 0.7412 - acc: 0.73 - ETA: 14:03 - loss: 0.7372 - acc: 0.74 - ETA: 13:58 - loss: 0.7368 - acc: 0.74 - ETA: 13:53 - loss: 0.7341 - acc: 0.74 - ETA: 13:48 - loss: 0.7318 - acc: 0.74 - ETA: 13:43 - loss: 0.7276 - acc: 0.74 - ETA: 13:38 - loss: 0.7242 - acc: 0.74 - ETA: 13:33 - loss: 0.7227 - acc: 0.74 - ETA: 13:28 - loss: 0.7212 - acc: 0.74 - ETA: 13:23 - loss: 0.7185 - acc: 0.74 - ETA: 13:17 - loss: 0.7156 - acc: 0.75 - ETA: 13:12 - loss: 0.7128 - acc: 0.75 - ETA: 13:07 - loss: 0.7116 - acc: 0.75 - ETA: 13:02 - loss: 0.7114 - acc: 0.75 - ETA: 12:56 - loss: 0.7092 - acc: 0.75 - ETA: 12:50 - loss: 0.7075 - acc: 0.75 - ETA: 12:45 - loss: 0.7048 - acc: 0.75 - ETA: 12:40 - loss: 0.7028 - acc: 0.75 - ETA: 12:34 - loss: 0.7001 - acc: 0.75 - ETA: 12:29 - loss: 0.6955 - acc: 0.75 - ETA: 12:25 - loss: 0.6941 - acc: 0.75 - ETA: 12:19 - loss: 0.6929 - acc: 0.75 - ETA: 12:14 - loss: 0.6907 - acc: 0.75 - ETA: 12:09 - loss: 0.6872 - acc: 0.75 - ETA: 12:03 - loss: 0.6856 - acc: 0.75 - ETA: 11:58 - loss: 0.6845 - acc: 0.75 - ETA: 11:52 - loss: 0.6869 - acc: 0.75 - ETA: 11:47 - loss: 0.6846 - acc: 0.76 - ETA: 11:41 - loss: 0.6839 - acc: 0.76 - ETA: 11:36 - loss: 0.6810 - acc: 0.76 - ETA: 11:30 - loss: 0.6827 - acc: 0.76 - ETA: 11:25 - loss: 0.6821 - acc: 0.76 - ETA: 11:19 - loss: 0.6801 - acc: 0.76 - ETA: 11:13 - loss: 0.6776 - acc: 0.76 - ETA: 11:08 - loss: 0.6747 - acc: 0.76 - ETA: 11:02 - loss: 0.6727 - acc: 0.76 - ETA: 10:57 - loss: 0.6710 - acc: 0.76 - ETA: 10:51 - loss: 0.6687 - acc: 0.76 - ETA: 10:45 - loss: 0.6655 - acc: 0.76 - ETA: 10:40 - loss: 0.6650 - acc: 0.76 - ETA: 10:34 - loss: 0.6616 - acc: 0.76 - ETA: 10:29 - loss: 0.6632 - acc: 0.76 - ETA: 10:23 - loss: 0.6642 - acc: 0.76 - ETA: 10:17 - loss: 0.6625 - acc: 0.76 - ETA: 10:12 - loss: 0.6625 - acc: 0.77 - ETA: 10:06 - loss: 0.6604 - acc: 0.77 - ETA: 10:01 - loss: 0.6583 - acc: 0.77 - ETA: 9:55 - loss: 0.6562 - acc: 0.7722 - ETA: 9:50 - loss: 0.6547 - acc: 0.772 - ETA: 9:44 - loss: 0.6534 - acc: 0.772 - ETA: 9:38 - loss: 0.6525 - acc: 0.772 - ETA: 9:33 - loss: 0.6509 - acc: 0.772 - ETA: 9:27 - loss: 0.6535 - acc: 0.772 - ETA: 9:22 - loss: 0.6522 - acc: 0.772 - ETA: 9:16 - loss: 0.6508 - acc: 0.772 - ETA: 9:10 - loss: 0.6529 - acc: 0.772 - ETA: 9:05 - loss: 0.6523 - acc: 0.772 - ETA: 8:59 - loss: 0.6517 - acc: 0.772 - ETA: 8:54 - loss: 0.6492 - acc: 0.773 - ETA: 8:48 - loss: 0.6472 - acc: 0.774 - ETA: 8:42 - loss: 0.6456 - acc: 0.774 - ETA: 8:37 - loss: 0.6453 - acc: 0.774 - ETA: 8:31 - loss: 0.6443 - acc: 0.774 - ETA: 8:26 - loss: 0.6439 - acc: 0.774 - ETA: 8:20 - loss: 0.6435 - acc: 0.774 - ETA: 8:14 - loss: 0.6426 - acc: 0.774 - ETA: 8:09 - loss: 0.6412 - acc: 0.774 - ETA: 8:03 - loss: 0.6404 - acc: 0.774 - ETA: 7:58 - loss: 0.6396 - acc: 0.773 - ETA: 7:52 - loss: 0.6379 - acc: 0.774 - ETA: 7:46 - loss: 0.6356 - acc: 0.775 - ETA: 7:41 - loss: 0.6347 - acc: 0.775 - ETA: 7:35 - loss: 0.6339 - acc: 0.775 - ETA: 7:30 - loss: 0.6324 - acc: 0.776 - ETA: 7:24 - loss: 0.6309 - acc: 0.777 - ETA: 7:18 - loss: 0.6292 - acc: 0.777 - ETA: 7:13 - loss: 0.6279 - acc: 0.778 - ETA: 7:07 - loss: 0.6285 - acc: 0.778 - ETA: 7:01 - loss: 0.6287 - acc: 0.778 - ETA: 6:56 - loss: 0.6290 - acc: 0.778 - ETA: 6:50 - loss: 0.6280 - acc: 0.778 - ETA: 6:45 - loss: 0.6276 - acc: 0.777 - ETA: 6:39 - loss: 0.6267 - acc: 0.778 - ETA: 6:33 - loss: 0.6268 - acc: 0.777 - ETA: 6:28 - loss: 0.6256 - acc: 0.778 - ETA: 6:22 - loss: 0.6252 - acc: 0.778 - ETA: 6:17 - loss: 0.6232 - acc: 0.779 - ETA: 6:11 - loss: 0.6221 - acc: 0.779 - ETA: 6:05 - loss: 0.6209 - acc: 0.780 - ETA: 6:00 - loss: 0.6197 - acc: 0.780 - ETA: 5:54 - loss: 0.6188 - acc: 0.781 - ETA: 5:49 - loss: 0.6198 - acc: 0.780 - ETA: 5:43 - loss: 0.6203 - acc: 0.780 - ETA: 5:37 - loss: 0.6206 - acc: 0.780 - ETA: 5:32 - loss: 0.6193 - acc: 0.780 - ETA: 5:26 - loss: 0.6182 - acc: 0.780 - ETA: 5:21 - loss: 0.6177 - acc: 0.780 - ETA: 5:15 - loss: 0.6175 - acc: 0.781 - ETA: 5:09 - loss: 0.6162 - acc: 0.781 - ETA: 5:04 - loss: 0.6173 - acc: 0.781 - ETA: 4:58 - loss: 0.6166 - acc: 0.781 - ETA: 4:53 - loss: 0.6160 - acc: 0.781 - ETA: 4:47 - loss: 0.6157 - acc: 0.781 - ETA: 4:41 - loss: 0.6164 - acc: 0.780 - ETA: 4:36 - loss: 0.6171 - acc: 0.780 - ETA: 4:30 - loss: 0.6153 - acc: 0.781 - ETA: 4:25 - loss: 0.6132 - acc: 0.782 - ETA: 4:19 - loss: 0.6148 - acc: 0.781 - ETA: 4:13 - loss: 0.6134 - acc: 0.782 - ETA: 4:08 - loss: 0.6127 - acc: 0.782 - ETA: 4:02 - loss: 0.6122 - acc: 0.782 - ETA: 3:56 - loss: 0.6110 - acc: 0.782 - ETA: 3:51 - loss: 0.6107 - acc: 0.782 - ETA: 3:45 - loss: 0.6094 - acc: 0.782 - ETA: 3:40 - loss: 0.6099 - acc: 0.782 - ETA: 3:34 - loss: 0.6091 - acc: 0.7827721/7721 [==============================] - ETA: 3:28 - loss: 0.6088 - acc: 0.783 - ETA: 3:23 - loss: 0.6072 - acc: 0.783 - ETA: 3:17 - loss: 0.6064 - acc: 0.784 - ETA: 3:12 - loss: 0.6063 - acc: 0.784 - ETA: 3:06 - loss: 0.6042 - acc: 0.785 - ETA: 3:00 - loss: 0.6043 - acc: 0.785 - ETA: 2:55 - loss: 0.6044 - acc: 0.785 - ETA: 2:49 - loss: 0.6039 - acc: 0.785 - ETA: 2:43 - loss: 0.6031 - acc: 0.786 - ETA: 2:38 - loss: 0.6025 - acc: 0.786 - ETA: 2:32 - loss: 0.6031 - acc: 0.786 - ETA: 2:27 - loss: 0.6021 - acc: 0.786 - ETA: 2:21 - loss: 0.6016 - acc: 0.786 - ETA: 2:15 - loss: 0.6017 - acc: 0.786 - ETA: 2:10 - loss: 0.6009 - acc: 0.786 - ETA: 2:04 - loss: 0.5999 - acc: 0.786 - ETA: 1:59 - loss: 0.5983 - acc: 0.787 - ETA: 1:53 - loss: 0.5987 - acc: 0.787 - ETA: 1:47 - loss: 0.5981 - acc: 0.787 - ETA: 1:42 - loss: 0.5971 - acc: 0.788 - ETA: 1:36 - loss: 0.5963 - acc: 0.788 - ETA: 1:31 - loss: 0.5945 - acc: 0.788 - ETA: 1:25 - loss: 0.5942 - acc: 0.789 - ETA: 1:19 - loss: 0.5931 - acc: 0.789 - ETA: 1:14 - loss: 0.5924 - acc: 0.789 - ETA: 1:08 - loss: 0.5917 - acc: 0.790 - ETA: 1:03 - loss: 0.5904 - acc: 0.790 - ETA: 57s - loss: 0.5901 - acc: 0.790 - ETA: 51s - loss: 0.5893 - acc: 0.79 - ETA: 46s - loss: 0.5889 - acc: 0.79 - ETA: 40s - loss: 0.5880 - acc: 0.79 - ETA: 35s - loss: 0.5867 - acc: 0.79 - ETA: 29s - loss: 0.5868 - acc: 0.79 - ETA: 23s - loss: 0.5874 - acc: 0.79 - ETA: 18s - loss: 0.5862 - acc: 0.79 - ETA: 12s - loss: 0.5861 - acc: 0.79 - ETA: 7s - loss: 0.5855 - acc: 0.7911 - ETA: 1s - loss: 0.5842 - acc: 0.791 - 1496s 194ms/step - loss: 0.5837 - acc: 0.7919 - val_loss: 0.4673 - val_acc: 0.8294\n",
      "Epoch 2/3\n"
     ]
    },
    {
     "name": "stdout",
     "output_type": "stream",
     "text": [
      "6528/7721 [========================>.....] - ETA: 22:01 - loss: 0.4242 - acc: 0.81 - ETA: 21:54 - loss: 0.3757 - acc: 0.84 - ETA: 21:50 - loss: 0.3705 - acc: 0.84 - ETA: 21:43 - loss: 0.3650 - acc: 0.83 - ETA: 21:39 - loss: 0.3965 - acc: 0.83 - ETA: 21:34 - loss: 0.4033 - acc: 0.84 - ETA: 21:30 - loss: 0.3856 - acc: 0.85 - ETA: 21:24 - loss: 0.3701 - acc: 0.85 - ETA: 21:18 - loss: 0.3950 - acc: 0.84 - ETA: 21:14 - loss: 0.3737 - acc: 0.85 - ETA: 21:08 - loss: 0.3828 - acc: 0.84 - ETA: 21:02 - loss: 0.3900 - acc: 0.84 - ETA: 20:57 - loss: 0.4050 - acc: 0.84 - ETA: 20:52 - loss: 0.4011 - acc: 0.84 - ETA: 20:49 - loss: 0.3949 - acc: 0.84 - ETA: 20:43 - loss: 0.3996 - acc: 0.84 - ETA: 20:38 - loss: 0.4226 - acc: 0.83 - ETA: 20:33 - loss: 0.4114 - acc: 0.84 - ETA: 20:28 - loss: 0.4035 - acc: 0.84 - ETA: 20:22 - loss: 0.4061 - acc: 0.84 - ETA: 20:17 - loss: 0.4141 - acc: 0.84 - ETA: 20:11 - loss: 0.4058 - acc: 0.84 - ETA: 20:05 - loss: 0.4016 - acc: 0.84 - ETA: 19:59 - loss: 0.4005 - acc: 0.84 - ETA: 19:53 - loss: 0.4002 - acc: 0.85 - ETA: 19:48 - loss: 0.4033 - acc: 0.84 - ETA: 19:43 - loss: 0.3986 - acc: 0.84 - ETA: 19:38 - loss: 0.3987 - acc: 0.84 - ETA: 19:33 - loss: 0.4019 - acc: 0.84 - ETA: 19:27 - loss: 0.4074 - acc: 0.84 - ETA: 19:22 - loss: 0.4093 - acc: 0.84 - ETA: 19:17 - loss: 0.4054 - acc: 0.84 - ETA: 19:11 - loss: 0.4086 - acc: 0.84 - ETA: 19:06 - loss: 0.4053 - acc: 0.85 - ETA: 19:00 - loss: 0.4078 - acc: 0.84 - ETA: 18:55 - loss: 0.4077 - acc: 0.84 - ETA: 18:50 - loss: 0.4139 - acc: 0.84 - ETA: 18:45 - loss: 0.4198 - acc: 0.84 - ETA: 18:39 - loss: 0.4213 - acc: 0.84 - ETA: 18:34 - loss: 0.4189 - acc: 0.84 - ETA: 18:28 - loss: 0.4208 - acc: 0.84 - ETA: 18:23 - loss: 0.4201 - acc: 0.84 - ETA: 18:18 - loss: 0.4172 - acc: 0.84 - ETA: 18:12 - loss: 0.4182 - acc: 0.84 - ETA: 18:07 - loss: 0.4145 - acc: 0.84 - ETA: 18:02 - loss: 0.4137 - acc: 0.84 - ETA: 17:56 - loss: 0.4092 - acc: 0.84 - ETA: 17:51 - loss: 0.4081 - acc: 0.84 - ETA: 17:45 - loss: 0.4050 - acc: 0.85 - ETA: 17:40 - loss: 0.4056 - acc: 0.85 - ETA: 17:34 - loss: 0.4062 - acc: 0.84 - ETA: 17:29 - loss: 0.4046 - acc: 0.84 - ETA: 17:23 - loss: 0.4012 - acc: 0.85 - ETA: 17:18 - loss: 0.3972 - acc: 0.85 - ETA: 17:12 - loss: 0.3938 - acc: 0.85 - ETA: 17:06 - loss: 0.3957 - acc: 0.85 - ETA: 17:01 - loss: 0.3969 - acc: 0.85 - ETA: 16:56 - loss: 0.3991 - acc: 0.85 - ETA: 16:50 - loss: 0.4008 - acc: 0.84 - ETA: 16:44 - loss: 0.4044 - acc: 0.84 - ETA: 16:39 - loss: 0.4033 - acc: 0.84 - ETA: 16:34 - loss: 0.4019 - acc: 0.84 - ETA: 16:28 - loss: 0.4017 - acc: 0.84 - ETA: 16:23 - loss: 0.4047 - acc: 0.84 - ETA: 16:17 - loss: 0.4038 - acc: 0.84 - ETA: 16:12 - loss: 0.4018 - acc: 0.84 - ETA: 16:06 - loss: 0.4011 - acc: 0.84 - ETA: 16:00 - loss: 0.4038 - acc: 0.84 - ETA: 15:55 - loss: 0.4035 - acc: 0.84 - ETA: 15:49 - loss: 0.4019 - acc: 0.84 - ETA: 15:43 - loss: 0.4014 - acc: 0.84 - ETA: 15:38 - loss: 0.4016 - acc: 0.84 - ETA: 15:32 - loss: 0.3990 - acc: 0.84 - ETA: 15:27 - loss: 0.4014 - acc: 0.84 - ETA: 15:21 - loss: 0.4010 - acc: 0.84 - ETA: 15:15 - loss: 0.4014 - acc: 0.84 - ETA: 15:10 - loss: 0.4067 - acc: 0.84 - ETA: 15:04 - loss: 0.4048 - acc: 0.84 - ETA: 14:59 - loss: 0.4036 - acc: 0.84 - ETA: 14:54 - loss: 0.4015 - acc: 0.84 - ETA: 14:48 - loss: 0.4033 - acc: 0.84 - ETA: 14:42 - loss: 0.4037 - acc: 0.84 - ETA: 14:37 - loss: 0.4019 - acc: 0.84 - ETA: 14:31 - loss: 0.4004 - acc: 0.84 - ETA: 14:25 - loss: 0.3981 - acc: 0.84 - ETA: 14:20 - loss: 0.3990 - acc: 0.84 - ETA: 14:14 - loss: 0.3972 - acc: 0.84 - ETA: 14:09 - loss: 0.3945 - acc: 0.85 - ETA: 14:03 - loss: 0.3945 - acc: 0.85 - ETA: 13:57 - loss: 0.3945 - acc: 0.85 - ETA: 13:52 - loss: 0.3928 - acc: 0.85 - ETA: 13:46 - loss: 0.3926 - acc: 0.85 - ETA: 13:41 - loss: 0.3931 - acc: 0.85 - ETA: 13:35 - loss: 0.3937 - acc: 0.85 - ETA: 13:29 - loss: 0.3953 - acc: 0.85 - ETA: 13:24 - loss: 0.3951 - acc: 0.85 - ETA: 13:18 - loss: 0.3939 - acc: 0.85 - ETA: 13:13 - loss: 0.3975 - acc: 0.85 - ETA: 13:07 - loss: 0.3944 - acc: 0.85 - ETA: 13:02 - loss: 0.3970 - acc: 0.85 - ETA: 12:56 - loss: 0.3968 - acc: 0.85 - ETA: 12:51 - loss: 0.3972 - acc: 0.85 - ETA: 12:45 - loss: 0.3947 - acc: 0.85 - ETA: 12:40 - loss: 0.3936 - acc: 0.85 - ETA: 12:34 - loss: 0.3930 - acc: 0.85 - ETA: 12:29 - loss: 0.3938 - acc: 0.85 - ETA: 12:23 - loss: 0.3924 - acc: 0.85 - ETA: 12:18 - loss: 0.3920 - acc: 0.85 - ETA: 12:12 - loss: 0.3914 - acc: 0.85 - ETA: 12:06 - loss: 0.3912 - acc: 0.85 - ETA: 12:01 - loss: 0.3902 - acc: 0.85 - ETA: 11:55 - loss: 0.3912 - acc: 0.85 - ETA: 11:50 - loss: 0.3923 - acc: 0.85 - ETA: 11:44 - loss: 0.3923 - acc: 0.85 - ETA: 11:39 - loss: 0.3933 - acc: 0.85 - ETA: 11:33 - loss: 0.3956 - acc: 0.85 - ETA: 11:28 - loss: 0.3950 - acc: 0.85 - ETA: 11:22 - loss: 0.3939 - acc: 0.85 - ETA: 11:17 - loss: 0.3940 - acc: 0.85 - ETA: 11:11 - loss: 0.3948 - acc: 0.85 - ETA: 11:06 - loss: 0.3944 - acc: 0.85 - ETA: 11:00 - loss: 0.3935 - acc: 0.85 - ETA: 10:55 - loss: 0.3924 - acc: 0.85 - ETA: 10:50 - loss: 0.3918 - acc: 0.85 - ETA: 10:45 - loss: 0.3907 - acc: 0.85 - ETA: 10:39 - loss: 0.3910 - acc: 0.85 - ETA: 10:34 - loss: 0.3911 - acc: 0.85 - ETA: 10:29 - loss: 0.3899 - acc: 0.85 - ETA: 10:24 - loss: 0.3898 - acc: 0.85 - ETA: 10:19 - loss: 0.3903 - acc: 0.85 - ETA: 10:14 - loss: 0.3899 - acc: 0.85 - ETA: 10:08 - loss: 0.3891 - acc: 0.85 - ETA: 10:03 - loss: 0.3888 - acc: 0.85 - ETA: 9:58 - loss: 0.3890 - acc: 0.8547 - ETA: 9:52 - loss: 0.3896 - acc: 0.854 - ETA: 9:47 - loss: 0.3893 - acc: 0.854 - ETA: 9:41 - loss: 0.3895 - acc: 0.854 - ETA: 9:35 - loss: 0.3891 - acc: 0.854 - ETA: 9:30 - loss: 0.3884 - acc: 0.854 - ETA: 9:24 - loss: 0.3872 - acc: 0.854 - ETA: 9:19 - loss: 0.3860 - acc: 0.855 - ETA: 9:13 - loss: 0.3864 - acc: 0.855 - ETA: 9:08 - loss: 0.3870 - acc: 0.855 - ETA: 9:02 - loss: 0.3858 - acc: 0.855 - ETA: 8:57 - loss: 0.3843 - acc: 0.856 - ETA: 8:52 - loss: 0.3830 - acc: 0.857 - ETA: 8:47 - loss: 0.3834 - acc: 0.856 - ETA: 8:41 - loss: 0.3833 - acc: 0.856 - ETA: 8:36 - loss: 0.3829 - acc: 0.856 - ETA: 8:30 - loss: 0.3821 - acc: 0.856 - ETA: 8:24 - loss: 0.3813 - acc: 0.857 - ETA: 8:19 - loss: 0.3807 - acc: 0.857 - ETA: 8:13 - loss: 0.3801 - acc: 0.858 - ETA: 8:08 - loss: 0.3788 - acc: 0.859 - ETA: 8:02 - loss: 0.3793 - acc: 0.858 - ETA: 7:57 - loss: 0.3796 - acc: 0.858 - ETA: 7:51 - loss: 0.3796 - acc: 0.858 - ETA: 7:46 - loss: 0.3788 - acc: 0.858 - ETA: 7:40 - loss: 0.3790 - acc: 0.858 - ETA: 7:35 - loss: 0.3797 - acc: 0.858 - ETA: 7:29 - loss: 0.3798 - acc: 0.857 - ETA: 7:23 - loss: 0.3799 - acc: 0.857 - ETA: 7:18 - loss: 0.3789 - acc: 0.858 - ETA: 7:12 - loss: 0.3792 - acc: 0.858 - ETA: 7:07 - loss: 0.3802 - acc: 0.858 - ETA: 7:01 - loss: 0.3795 - acc: 0.858 - ETA: 6:55 - loss: 0.3785 - acc: 0.858 - ETA: 6:50 - loss: 0.3784 - acc: 0.858 - ETA: 6:44 - loss: 0.3797 - acc: 0.858 - ETA: 6:39 - loss: 0.3780 - acc: 0.858 - ETA: 6:33 - loss: 0.3777 - acc: 0.859 - ETA: 6:27 - loss: 0.3767 - acc: 0.859 - ETA: 6:22 - loss: 0.3762 - acc: 0.859 - ETA: 6:16 - loss: 0.3769 - acc: 0.859 - ETA: 6:10 - loss: 0.3762 - acc: 0.859 - ETA: 6:05 - loss: 0.3756 - acc: 0.859 - ETA: 5:59 - loss: 0.3761 - acc: 0.859 - ETA: 5:54 - loss: 0.3746 - acc: 0.860 - ETA: 5:48 - loss: 0.3749 - acc: 0.859 - ETA: 5:42 - loss: 0.3742 - acc: 0.860 - ETA: 5:37 - loss: 0.3751 - acc: 0.859 - ETA: 5:31 - loss: 0.3747 - acc: 0.860 - ETA: 5:26 - loss: 0.3747 - acc: 0.860 - ETA: 5:20 - loss: 0.3750 - acc: 0.860 - ETA: 5:14 - loss: 0.3755 - acc: 0.860 - ETA: 5:09 - loss: 0.3749 - acc: 0.860 - ETA: 5:03 - loss: 0.3749 - acc: 0.860 - ETA: 4:57 - loss: 0.3748 - acc: 0.860 - ETA: 4:52 - loss: 0.3744 - acc: 0.860 - ETA: 4:46 - loss: 0.3743 - acc: 0.860 - ETA: 4:41 - loss: 0.3747 - acc: 0.860 - ETA: 4:35 - loss: 0.3767 - acc: 0.859 - ETA: 4:29 - loss: 0.3772 - acc: 0.859 - ETA: 4:24 - loss: 0.3767 - acc: 0.859 - ETA: 4:19 - loss: 0.3769 - acc: 0.859 - ETA: 4:13 - loss: 0.3764 - acc: 0.859 - ETA: 4:07 - loss: 0.3759 - acc: 0.859 - ETA: 4:02 - loss: 0.3751 - acc: 0.860 - ETA: 3:56 - loss: 0.3748 - acc: 0.860 - ETA: 3:51 - loss: 0.3738 - acc: 0.860 - ETA: 3:45 - loss: 0.3727 - acc: 0.861 - ETA: 3:40 - loss: 0.3728 - acc: 0.861 - ETA: 3:34 - loss: 0.3728 - acc: 0.861 - ETA: 3:28 - loss: 0.3734 - acc: 0.8608"
     ]
    },
    {
     "name": "stdout",
     "output_type": "stream",
     "text": [
      "7721/7721 [==============================] - ETA: 3:23 - loss: 0.3727 - acc: 0.861 - ETA: 3:17 - loss: 0.3721 - acc: 0.861 - ETA: 3:12 - loss: 0.3713 - acc: 0.861 - ETA: 3:06 - loss: 0.3709 - acc: 0.862 - ETA: 3:00 - loss: 0.3707 - acc: 0.862 - ETA: 2:55 - loss: 0.3715 - acc: 0.861 - ETA: 2:49 - loss: 0.3705 - acc: 0.862 - ETA: 2:43 - loss: 0.3706 - acc: 0.862 - ETA: 2:38 - loss: 0.3699 - acc: 0.862 - ETA: 2:32 - loss: 0.3703 - acc: 0.862 - ETA: 2:27 - loss: 0.3702 - acc: 0.862 - ETA: 2:21 - loss: 0.3705 - acc: 0.862 - ETA: 2:15 - loss: 0.3702 - acc: 0.862 - ETA: 2:10 - loss: 0.3700 - acc: 0.862 - ETA: 2:04 - loss: 0.3702 - acc: 0.862 - ETA: 1:59 - loss: 0.3696 - acc: 0.862 - ETA: 1:53 - loss: 0.3697 - acc: 0.862 - ETA: 1:47 - loss: 0.3706 - acc: 0.862 - ETA: 1:42 - loss: 0.3706 - acc: 0.862 - ETA: 1:36 - loss: 0.3702 - acc: 0.862 - ETA: 1:31 - loss: 0.3705 - acc: 0.862 - ETA: 1:25 - loss: 0.3700 - acc: 0.862 - ETA: 1:19 - loss: 0.3695 - acc: 0.863 - ETA: 1:14 - loss: 0.3695 - acc: 0.863 - ETA: 1:08 - loss: 0.3698 - acc: 0.863 - ETA: 1:03 - loss: 0.3698 - acc: 0.863 - ETA: 57s - loss: 0.3699 - acc: 0.862 - ETA: 51s - loss: 0.3696 - acc: 0.86 - ETA: 46s - loss: 0.3697 - acc: 0.86 - ETA: 40s - loss: 0.3697 - acc: 0.86 - ETA: 35s - loss: 0.3696 - acc: 0.86 - ETA: 29s - loss: 0.3700 - acc: 0.86 - ETA: 23s - loss: 0.3692 - acc: 0.86 - ETA: 18s - loss: 0.3690 - acc: 0.86 - ETA: 12s - loss: 0.3691 - acc: 0.86 - ETA: 7s - loss: 0.3689 - acc: 0.8630 - ETA: 1s - loss: 0.3700 - acc: 0.862 - 1500s 194ms/step - loss: 0.3696 - acc: 0.8627 - val_loss: 0.4566 - val_acc: 0.8341\n",
      "Epoch 3/3\n"
     ]
    },
    {
     "name": "stdout",
     "output_type": "stream",
     "text": [
      "6528/7721 [========================>.....] - ETA: 22:05 - loss: 0.2177 - acc: 0.90 - ETA: 22:05 - loss: 0.3243 - acc: 0.87 - ETA: 22:01 - loss: 0.2761 - acc: 0.90 - ETA: 21:55 - loss: 0.2871 - acc: 0.89 - ETA: 21:50 - loss: 0.2730 - acc: 0.90 - ETA: 21:46 - loss: 0.2827 - acc: 0.89 - ETA: 21:44 - loss: 0.2673 - acc: 0.90 - ETA: 21:38 - loss: 0.2532 - acc: 0.90 - ETA: 21:37 - loss: 0.2503 - acc: 0.90 - ETA: 21:34 - loss: 0.2478 - acc: 0.90 - ETA: 21:27 - loss: 0.2497 - acc: 0.90 - ETA: 21:19 - loss: 0.2555 - acc: 0.90 - ETA: 21:13 - loss: 0.2553 - acc: 0.90 - ETA: 21:06 - loss: 0.2498 - acc: 0.90 - ETA: 21:06 - loss: 0.2505 - acc: 0.90 - ETA: 21:19 - loss: 0.2488 - acc: 0.90 - ETA: 21:21 - loss: 0.2418 - acc: 0.90 - ETA: 21:29 - loss: 0.2390 - acc: 0.90 - ETA: 21:30 - loss: 0.2433 - acc: 0.90 - ETA: 21:25 - loss: 0.2596 - acc: 0.90 - ETA: 21:27 - loss: 0.2629 - acc: 0.90 - ETA: 21:35 - loss: 0.2610 - acc: 0.90 - ETA: 21:29 - loss: 0.2666 - acc: 0.89 - ETA: 21:21 - loss: 0.2727 - acc: 0.89 - ETA: 21:13 - loss: 0.2740 - acc: 0.89 - ETA: 21:05 - loss: 0.2668 - acc: 0.90 - ETA: 20:58 - loss: 0.2709 - acc: 0.90 - ETA: 20:51 - loss: 0.2789 - acc: 0.89 - ETA: 20:43 - loss: 0.2799 - acc: 0.89 - ETA: 20:36 - loss: 0.2939 - acc: 0.88 - ETA: 20:28 - loss: 0.2898 - acc: 0.89 - ETA: 20:20 - loss: 0.2901 - acc: 0.89 - ETA: 20:13 - loss: 0.2923 - acc: 0.89 - ETA: 20:07 - loss: 0.2937 - acc: 0.88 - ETA: 20:00 - loss: 0.2942 - acc: 0.89 - ETA: 19:53 - loss: 0.2956 - acc: 0.89 - ETA: 19:46 - loss: 0.2904 - acc: 0.89 - ETA: 19:38 - loss: 0.2871 - acc: 0.89 - ETA: 19:32 - loss: 0.2874 - acc: 0.89 - ETA: 19:25 - loss: 0.2880 - acc: 0.89 - ETA: 19:18 - loss: 0.2860 - acc: 0.89 - ETA: 19:11 - loss: 0.2828 - acc: 0.89 - ETA: 19:05 - loss: 0.2815 - acc: 0.89 - ETA: 18:58 - loss: 0.2829 - acc: 0.89 - ETA: 18:53 - loss: 0.2799 - acc: 0.89 - ETA: 18:47 - loss: 0.2828 - acc: 0.89 - ETA: 18:40 - loss: 0.2813 - acc: 0.89 - ETA: 18:34 - loss: 0.2830 - acc: 0.89 - ETA: 18:27 - loss: 0.2816 - acc: 0.89 - ETA: 18:21 - loss: 0.2808 - acc: 0.89 - ETA: 18:15 - loss: 0.2810 - acc: 0.89 - ETA: 18:09 - loss: 0.2838 - acc: 0.89 - ETA: 18:02 - loss: 0.2846 - acc: 0.89 - ETA: 17:56 - loss: 0.2864 - acc: 0.89 - ETA: 17:49 - loss: 0.2877 - acc: 0.89 - ETA: 17:43 - loss: 0.2871 - acc: 0.89 - ETA: 17:36 - loss: 0.2889 - acc: 0.89 - ETA: 17:30 - loss: 0.2881 - acc: 0.89 - ETA: 17:25 - loss: 0.2899 - acc: 0.89 - ETA: 17:19 - loss: 0.2893 - acc: 0.89 - ETA: 17:13 - loss: 0.2893 - acc: 0.89 - ETA: 17:07 - loss: 0.2891 - acc: 0.89 - ETA: 17:01 - loss: 0.2886 - acc: 0.89 - ETA: 16:55 - loss: 0.2897 - acc: 0.89 - ETA: 16:50 - loss: 0.2910 - acc: 0.89 - ETA: 16:44 - loss: 0.2962 - acc: 0.89 - ETA: 16:38 - loss: 0.2971 - acc: 0.88 - ETA: 16:31 - loss: 0.2976 - acc: 0.88 - ETA: 16:25 - loss: 0.2968 - acc: 0.88 - ETA: 16:20 - loss: 0.2983 - acc: 0.88 - ETA: 16:14 - loss: 0.3003 - acc: 0.88 - ETA: 16:07 - loss: 0.2988 - acc: 0.89 - ETA: 16:01 - loss: 0.2970 - acc: 0.89 - ETA: 15:55 - loss: 0.2980 - acc: 0.89 - ETA: 15:50 - loss: 0.2986 - acc: 0.89 - ETA: 15:44 - loss: 0.2968 - acc: 0.89 - ETA: 15:38 - loss: 0.2964 - acc: 0.89 - ETA: 15:32 - loss: 0.2973 - acc: 0.88 - ETA: 15:26 - loss: 0.2994 - acc: 0.88 - ETA: 15:20 - loss: 0.2994 - acc: 0.88 - ETA: 15:15 - loss: 0.2993 - acc: 0.88 - ETA: 15:10 - loss: 0.2995 - acc: 0.88 - ETA: 15:04 - loss: 0.2987 - acc: 0.89 - ETA: 14:58 - loss: 0.2988 - acc: 0.88 - ETA: 14:53 - loss: 0.2996 - acc: 0.88 - ETA: 14:47 - loss: 0.3002 - acc: 0.88 - ETA: 14:41 - loss: 0.2994 - acc: 0.88 - ETA: 14:35 - loss: 0.2979 - acc: 0.88 - ETA: 14:29 - loss: 0.2975 - acc: 0.88 - ETA: 14:24 - loss: 0.2983 - acc: 0.88 - ETA: 14:19 - loss: 0.2974 - acc: 0.88 - ETA: 14:14 - loss: 0.2977 - acc: 0.88 - ETA: 14:08 - loss: 0.2959 - acc: 0.88 - ETA: 14:03 - loss: 0.2961 - acc: 0.88 - ETA: 13:58 - loss: 0.2974 - acc: 0.88 - ETA: 13:54 - loss: 0.2965 - acc: 0.88 - ETA: 13:49 - loss: 0.2950 - acc: 0.88 - ETA: 13:45 - loss: 0.2952 - acc: 0.88 - ETA: 13:40 - loss: 0.2947 - acc: 0.88 - ETA: 13:35 - loss: 0.2944 - acc: 0.88 - ETA: 13:29 - loss: 0.2935 - acc: 0.88 - ETA: 13:24 - loss: 0.2915 - acc: 0.89 - ETA: 13:19 - loss: 0.2922 - acc: 0.89 - ETA: 13:13 - loss: 0.2933 - acc: 0.88 - ETA: 13:09 - loss: 0.2927 - acc: 0.89 - ETA: 13:05 - loss: 0.2905 - acc: 0.89 - ETA: 12:59 - loss: 0.2901 - acc: 0.89 - ETA: 12:55 - loss: 0.2906 - acc: 0.89 - ETA: 12:51 - loss: 0.2915 - acc: 0.89 - ETA: 12:45 - loss: 0.2909 - acc: 0.89 - ETA: 12:40 - loss: 0.2913 - acc: 0.89 - ETA: 12:35 - loss: 0.2898 - acc: 0.89 - ETA: 12:30 - loss: 0.2892 - acc: 0.89 - ETA: 12:25 - loss: 0.2899 - acc: 0.89 - ETA: 12:20 - loss: 0.2908 - acc: 0.89 - ETA: 12:15 - loss: 0.2909 - acc: 0.89 - ETA: 12:11 - loss: 0.2901 - acc: 0.89 - ETA: 12:06 - loss: 0.2939 - acc: 0.88 - ETA: 12:00 - loss: 0.2943 - acc: 0.88 - ETA: 11:55 - loss: 0.2963 - acc: 0.88 - ETA: 11:49 - loss: 0.2959 - acc: 0.88 - ETA: 11:43 - loss: 0.2965 - acc: 0.88 - ETA: 11:37 - loss: 0.2974 - acc: 0.88 - ETA: 11:31 - loss: 0.2967 - acc: 0.88 - ETA: 11:26 - loss: 0.2961 - acc: 0.88 - ETA: 11:20 - loss: 0.2962 - acc: 0.88 - ETA: 11:14 - loss: 0.2982 - acc: 0.88 - ETA: 11:08 - loss: 0.3004 - acc: 0.88 - ETA: 11:02 - loss: 0.3003 - acc: 0.88 - ETA: 10:56 - loss: 0.3009 - acc: 0.88 - ETA: 10:50 - loss: 0.3001 - acc: 0.88 - ETA: 10:45 - loss: 0.3001 - acc: 0.88 - ETA: 10:39 - loss: 0.3002 - acc: 0.88 - ETA: 10:33 - loss: 0.3012 - acc: 0.88 - ETA: 10:28 - loss: 0.3014 - acc: 0.88 - ETA: 10:22 - loss: 0.3032 - acc: 0.88 - ETA: 10:16 - loss: 0.3028 - acc: 0.88 - ETA: 10:11 - loss: 0.3036 - acc: 0.88 - ETA: 10:05 - loss: 0.3041 - acc: 0.88 - ETA: 9:59 - loss: 0.3034 - acc: 0.8866 - ETA: 9:53 - loss: 0.3032 - acc: 0.887 - ETA: 9:48 - loss: 0.3029 - acc: 0.887 - ETA: 9:42 - loss: 0.3026 - acc: 0.887 - ETA: 9:37 - loss: 0.3034 - acc: 0.887 - ETA: 9:31 - loss: 0.3040 - acc: 0.886 - ETA: 9:25 - loss: 0.3056 - acc: 0.885 - ETA: 9:19 - loss: 0.3076 - acc: 0.883 - ETA: 9:13 - loss: 0.3073 - acc: 0.884 - ETA: 9:07 - loss: 0.3066 - acc: 0.884 - ETA: 9:01 - loss: 0.3066 - acc: 0.884 - ETA: 8:55 - loss: 0.3087 - acc: 0.883 - ETA: 8:49 - loss: 0.3096 - acc: 0.883 - ETA: 8:43 - loss: 0.3095 - acc: 0.884 - ETA: 8:37 - loss: 0.3099 - acc: 0.883 - ETA: 8:31 - loss: 0.3102 - acc: 0.883 - ETA: 8:25 - loss: 0.3116 - acc: 0.883 - ETA: 8:19 - loss: 0.3126 - acc: 0.882 - ETA: 8:13 - loss: 0.3130 - acc: 0.881 - ETA: 8:07 - loss: 0.3117 - acc: 0.882 - ETA: 8:01 - loss: 0.3125 - acc: 0.881 - ETA: 7:55 - loss: 0.3120 - acc: 0.882 - ETA: 7:49 - loss: 0.3117 - acc: 0.882 - ETA: 7:43 - loss: 0.3115 - acc: 0.882 - ETA: 7:37 - loss: 0.3118 - acc: 0.882 - ETA: 7:31 - loss: 0.3128 - acc: 0.882 - ETA: 7:25 - loss: 0.3122 - acc: 0.882 - ETA: 7:19 - loss: 0.3128 - acc: 0.882 - ETA: 7:14 - loss: 0.3130 - acc: 0.881 - ETA: 7:08 - loss: 0.3119 - acc: 0.882 - ETA: 7:03 - loss: 0.3121 - acc: 0.882 - ETA: 6:57 - loss: 0.3114 - acc: 0.882 - ETA: 6:51 - loss: 0.3115 - acc: 0.882 - ETA: 6:45 - loss: 0.3110 - acc: 0.882 - ETA: 6:39 - loss: 0.3126 - acc: 0.881 - ETA: 6:33 - loss: 0.3128 - acc: 0.881 - ETA: 6:27 - loss: 0.3126 - acc: 0.881 - ETA: 6:21 - loss: 0.3126 - acc: 0.881 - ETA: 6:15 - loss: 0.3131 - acc: 0.880 - ETA: 6:09 - loss: 0.3122 - acc: 0.881 - ETA: 6:03 - loss: 0.3131 - acc: 0.880 - ETA: 5:57 - loss: 0.3120 - acc: 0.881 - ETA: 5:51 - loss: 0.3113 - acc: 0.881 - ETA: 5:45 - loss: 0.3106 - acc: 0.882 - ETA: 5:39 - loss: 0.3100 - acc: 0.882 - ETA: 5:33 - loss: 0.3096 - acc: 0.882 - ETA: 5:27 - loss: 0.3094 - acc: 0.882 - ETA: 5:22 - loss: 0.3104 - acc: 0.881 - ETA: 5:16 - loss: 0.3102 - acc: 0.881 - ETA: 5:10 - loss: 0.3094 - acc: 0.882 - ETA: 5:04 - loss: 0.3094 - acc: 0.881 - ETA: 4:58 - loss: 0.3089 - acc: 0.882 - ETA: 4:52 - loss: 0.3088 - acc: 0.882 - ETA: 4:46 - loss: 0.3103 - acc: 0.881 - ETA: 4:40 - loss: 0.3094 - acc: 0.881 - ETA: 4:34 - loss: 0.3104 - acc: 0.881 - ETA: 4:28 - loss: 0.3118 - acc: 0.881 - ETA: 4:22 - loss: 0.3116 - acc: 0.881 - ETA: 4:16 - loss: 0.3116 - acc: 0.881 - ETA: 4:10 - loss: 0.3116 - acc: 0.881 - ETA: 4:04 - loss: 0.3108 - acc: 0.881 - ETA: 3:58 - loss: 0.3099 - acc: 0.882 - ETA: 3:52 - loss: 0.3110 - acc: 0.881 - ETA: 3:46 - loss: 0.3116 - acc: 0.881 - ETA: 3:40 - loss: 0.3118 - acc: 0.88147721/7721 [==============================] - ETA: 3:34 - loss: 0.3128 - acc: 0.881 - ETA: 3:29 - loss: 0.3125 - acc: 0.881 - ETA: 3:23 - loss: 0.3128 - acc: 0.881 - ETA: 3:17 - loss: 0.3143 - acc: 0.880 - ETA: 3:11 - loss: 0.3145 - acc: 0.880 - ETA: 3:05 - loss: 0.3146 - acc: 0.880 - ETA: 2:59 - loss: 0.3167 - acc: 0.879 - ETA: 2:53 - loss: 0.3168 - acc: 0.879 - ETA: 2:47 - loss: 0.3166 - acc: 0.878 - ETA: 2:41 - loss: 0.3166 - acc: 0.878 - ETA: 2:35 - loss: 0.3174 - acc: 0.878 - ETA: 2:29 - loss: 0.3176 - acc: 0.878 - ETA: 2:23 - loss: 0.3182 - acc: 0.878 - ETA: 2:17 - loss: 0.3183 - acc: 0.878 - ETA: 2:12 - loss: 0.3175 - acc: 0.878 - ETA: 2:06 - loss: 0.3185 - acc: 0.878 - ETA: 2:00 - loss: 0.3184 - acc: 0.878 - ETA: 1:54 - loss: 0.3182 - acc: 0.878 - ETA: 1:48 - loss: 0.3183 - acc: 0.878 - ETA: 1:42 - loss: 0.3187 - acc: 0.878 - ETA: 1:36 - loss: 0.3189 - acc: 0.878 - ETA: 1:30 - loss: 0.3185 - acc: 0.878 - ETA: 1:24 - loss: 0.3192 - acc: 0.878 - ETA: 1:18 - loss: 0.3193 - acc: 0.878 - ETA: 1:12 - loss: 0.3183 - acc: 0.879 - ETA: 1:06 - loss: 0.3181 - acc: 0.878 - ETA: 1:01 - loss: 0.3192 - acc: 0.878 - ETA: 55s - loss: 0.3186 - acc: 0.879 - ETA: 49s - loss: 0.3188 - acc: 0.87 - ETA: 43s - loss: 0.3198 - acc: 0.87 - ETA: 37s - loss: 0.3192 - acc: 0.87 - ETA: 31s - loss: 0.3181 - acc: 0.87 - ETA: 25s - loss: 0.3177 - acc: 0.88 - ETA: 19s - loss: 0.3176 - acc: 0.88 - ETA: 13s - loss: 0.3186 - acc: 0.87 - ETA: 7s - loss: 0.3186 - acc: 0.8796 - ETA: 1s - loss: 0.3201 - acc: 0.878 - 1584s 205ms/step - loss: 0.3198 - acc: 0.8790 - val_loss: 0.4445 - val_acc: 0.8329\n"
     ]
    }
   ],
   "source": [
    "#Fitting the model\n",
    "history = model.fit(X_train, y_train, epochs = 3, validation_data = (X_test, y_test), verbose = 1)"
   ]
  },
  {
   "cell_type": "code",
   "execution_count": 21,
   "metadata": {},
   "outputs": [
    {
     "data": {
      "image/png": "[encoded data removed]",
      "text/plain": [
       "<Figure size 1080x216 with 2 Axes>"
      ]
     },
     "metadata": {},
     "output_type": "display_data"
    }
   ],
   "source": [
    "#Visualizing the results\n",
    "fig, axes = plt.subplots(nrows=1, ncols=2, figsize=(15, 3))\n",
    "\n",
    "axes[0].plot(history.history['loss'], label=\"Loss\")\n",
    "axes[0].plot(history.history['val_loss'], label=\"Validation loss\")\n",
    "axes[0].set_title('Loss')\n",
    "axes[0].set_xlabel('Epoch')\n",
    "axes[0].set_ylabel('Loss')\n",
    "axes[0].legend()\n",
    "\n",
    "\n",
    "axes[1].plot(history.history['acc'], label=\"Accuracy\")\n",
    "axes[1].plot(history.history['val_acc'], label=\"Validation accuracy\")\n",
    "axes[1].set_title('Accuracy')\n",
    "axes[1].set_xlabel('Epoch')\n",
    "axes[1].set_ylabel('Accuracy')\n",
    "axes[1].legend()\n",
    "plt.tight_layout()\n",
    "\n",
    "plt.show()"
   ]
  }
 ],
 "metadata": {
  "kernelspec": {
   "display_name": "Python 3",
   "language": "python",
   "name": "python3"
  },
  "language_info": {
   "codemirror_mode": {
    "name": "ipython",
    "version": 3
   },
   "file_extension": ".py",
   "mimetype": "text/x-python",
   "name": "python",
   "nbconvert_exporter": "python",
   "pygments_lexer": "ipython3",
   "version": "3.6.5"
  }
 },
 "nbformat": 4,
 "nbformat_minor": 2
}
